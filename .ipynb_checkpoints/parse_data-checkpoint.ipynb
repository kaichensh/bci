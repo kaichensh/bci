{
 "cells": [
  {
   "cell_type": "code",
   "execution_count": 1,
   "id": "20e23cea",
   "metadata": {},
   "outputs": [],
   "source": [
    "import numpy as np\n",
    "import os\n",
    "import h5py\n",
    "import tensorflow as tf\n",
    "import matplotlib.pyplot as plt\n",
    "import pandas as pd\n",
    "import random\n",
    "from glob import glob\n",
    "import pickle5 as pickle"
   ]
  },
  {
   "cell_type": "code",
   "execution_count": 2,
   "id": "8486e9ee",
   "metadata": {},
   "outputs": [],
   "source": [
    "source_folder = os.path.abspath('/mnt/cube/earneodo/bci_zf/neuropix/birds/z_w12m7_20/Ephys/processed/20201104/2500r250a_3500_dir_g0/')"
   ]
  },
  {
   "cell_type": "code",
   "execution_count": 3,
   "id": "2b34971b",
   "metadata": {},
   "outputs": [],
   "source": [
    "wav_name = 'wav_mic.wav'\n",
    "motif_dic_name = 'mot_dict.pkl'\n",
    "cluster_meta_name = 'clu_df.pkl'\n",
    "spike_data_name = 'spk_df.pkl'"
   ]
  },
  {
   "cell_type": "markdown",
   "id": "4ec12dcc",
   "metadata": {},
   "source": [
    "# motif_dict"
   ]
  },
  {
   "cell_type": "code",
   "execution_count": 4,
   "id": "04714ef0",
   "metadata": {},
   "outputs": [],
   "source": [
    "mot_dict = pickle.load(open(os.path.join(source_folder, motif_dic_name), 'rb'))"
   ]
  },
  {
   "cell_type": "markdown",
   "id": "ff10abe4",
   "metadata": {},
   "source": [
    "‘template’: np.array,\n",
    "\n",
    "‘s_f’: int, sample_rate of the stream used to find the template\n",
    "\n",
    "‘start_ms’: list, start in ms in the time scale of the wav_mic.wav file\n",
    "\n",
    "‘start_sample_naive’: np.array, (for debugging: start sample expected from resamping start_ms to the nidq sample rate).\n",
    "\n",
    "‘start_sample_nidq’: np.array, start sample in the binary (‘nidq’) imec file\n",
    "\n",
    "‘start_t_0’:  np.array, start in sec, relative to the binary (‘nidq’) imec file\n",
    "\n",
    "‘start_sample_ap_0’: np.array, start sample corresponding in the probe binary imec file (‘ap0’)\n",
    "\n",
    "‘start_t_ap_0’: np.array, start in sec, relative to the probe binary imec file (‘ap0’)."
   ]
  },
  {
   "cell_type": "code",
   "execution_count": 5,
   "id": "53e0a938",
   "metadata": {},
   "outputs": [],
   "source": [
    "sr = mot_dict['s_f']"
   ]
  },
  {
   "cell_type": "code",
   "execution_count": 34,
   "id": "488a7a83",
   "metadata": {},
   "outputs": [],
   "source": [
    "template = mot_dict['template']\n",
    "template_length = len(template)"
   ]
  },
  {
   "cell_type": "code",
   "execution_count": 35,
   "id": "915cf1a2",
   "metadata": {},
   "outputs": [
    {
     "name": "stdout",
     "output_type": "stream",
     "text": [
      "13749\n"
     ]
    }
   ],
   "source": [
    "print(template_length)"
   ]
  },
  {
   "cell_type": "code",
   "execution_count": 20,
   "id": "58831709",
   "metadata": {},
   "outputs": [
    {
     "data": {
      "text/plain": [
       "array([  12830.14547884,   13350.1513751 ,   13872.15729403,\n",
       "         14710.16679608,   15556.17638884,   16436.18636712,\n",
       "       7315266.94656828, 7316338.95872365, 7317214.96865657,\n",
       "       7318123.97896369])"
      ]
     },
     "execution_count": 20,
     "metadata": {},
     "output_type": "execute_result"
    }
   ],
   "source": [
    "mot_dict['start_ms']"
   ]
  },
  {
   "cell_type": "code",
   "execution_count": 28,
   "id": "d930e12c",
   "metadata": {},
   "outputs": [
    {
     "data": {
      "text/plain": [
       "array([  12.83021251,   13.35023873,   13.87217502,   14.71021434,\n",
       "         15.55626437,   16.43627212, 7315.26699596, 7316.33899532,\n",
       "       7317.21499361, 7318.12398729])"
      ]
     },
     "execution_count": 28,
     "metadata": {},
     "output_type": "execute_result"
    }
   ],
   "source": [
    "mot_dict['start_t_ap_0']"
   ]
  },
  {
   "cell_type": "markdown",
   "id": "4cdaa327",
   "metadata": {},
   "source": [
    "1. 'nidq' imec file?\n",
    "2. 'ap0' imec file? spiking data\n",
    "3. 10 motifs?\n",
    "4. end/length of motif? (same as template?) yes"
   ]
  },
  {
   "cell_type": "markdown",
   "id": "5f1e5f37",
   "metadata": {},
   "source": [
    "# cluster_df"
   ]
  },
  {
   "cell_type": "code",
   "execution_count": 9,
   "id": "4479a3e5",
   "metadata": {},
   "outputs": [],
   "source": [
    "cluster_df = pickle.load(open(os.path.join(source_folder, cluster_meta_name), 'rb'))"
   ]
  },
  {
   "cell_type": "code",
   "execution_count": 30,
   "id": "4759b792",
   "metadata": {},
   "outputs": [
    {
     "data": {
      "text/html": [
       "<div>\n",
       "<style scoped>\n",
       "    .dataframe tbody tr th:only-of-type {\n",
       "        vertical-align: middle;\n",
       "    }\n",
       "\n",
       "    .dataframe tbody tr th {\n",
       "        vertical-align: top;\n",
       "    }\n",
       "\n",
       "    .dataframe thead th {\n",
       "        text-align: right;\n",
       "    }\n",
       "</style>\n",
       "<table border=\"1\" class=\"dataframe\">\n",
       "  <thead>\n",
       "    <tr style=\"text-align: right;\">\n",
       "      <th></th>\n",
       "      <th>cluster_id</th>\n",
       "      <th>KSLabel</th>\n",
       "      <th>template</th>\n",
       "      <th>max_chans</th>\n",
       "      <th>main_chan</th>\n",
       "      <th>main_7</th>\n",
       "      <th>main_wav_7</th>\n",
       "      <th>nucleus</th>\n",
       "    </tr>\n",
       "  </thead>\n",
       "  <tbody>\n",
       "    <tr>\n",
       "      <th>808</th>\n",
       "      <td>808</td>\n",
       "      <td>mua</td>\n",
       "      <td>[[0.0, 0.0, 0.0, 0.0, 0.0, 0.0, 0.0, 0.0, 0.0,...</td>\n",
       "      <td>[365, 358, 357, 362, 353, 364, 366, 368, 367, ...</td>\n",
       "      <td>365</td>\n",
       "      <td>[353, 357, 358, 362, 364, 365, 366]</td>\n",
       "      <td>[[0.0, 0.0, 0.0, 0.0, 0.0, 0.0, 0.0], [0.0, 0....</td>\n",
       "      <td>NaN</td>\n",
       "    </tr>\n",
       "    <tr>\n",
       "      <th>813</th>\n",
       "      <td>813</td>\n",
       "      <td>mua</td>\n",
       "      <td>[[0.0, 0.0, 0.0, 0.0, 0.0, 0.0, 0.0, 0.0, 0.0,...</td>\n",
       "      <td>[370, 373, 372, 344, 374, 362, 369, 371, 357, ...</td>\n",
       "      <td>370</td>\n",
       "      <td>[344, 362, 369, 370, 372, 373, 374]</td>\n",
       "      <td>[[0.0, 0.0, 0.0, 0.0, 0.0, 0.0, 0.0], [0.0, 0....</td>\n",
       "      <td>NaN</td>\n",
       "    </tr>\n",
       "    <tr>\n",
       "      <th>814</th>\n",
       "      <td>814</td>\n",
       "      <td>mua</td>\n",
       "      <td>[[0.0, 0.0, 0.0, 0.0, 0.0, 0.0, 0.0, 0.0, 0.0,...</td>\n",
       "      <td>[370, 363, 368, 356, 373, 361, 357, 369, 367, ...</td>\n",
       "      <td>370</td>\n",
       "      <td>[356, 357, 361, 363, 368, 370, 373]</td>\n",
       "      <td>[[0.0, 0.0, 0.0, 0.0, 0.0, 0.0, 0.0], [0.0, 0....</td>\n",
       "      <td>NaN</td>\n",
       "    </tr>\n",
       "    <tr>\n",
       "      <th>807</th>\n",
       "      <td>807</td>\n",
       "      <td>mua</td>\n",
       "      <td>[[0.0, 0.0, 0.0, 0.0, 0.0, 0.0, 0.0, 0.0, 0.0,...</td>\n",
       "      <td>[373, 365, 370, 358, 372, 349, 347, 363, 357, ...</td>\n",
       "      <td>373</td>\n",
       "      <td>[347, 349, 358, 365, 370, 372, 373]</td>\n",
       "      <td>[[0.0, 0.0, 0.0, 0.0, 0.0, 0.0, 0.0], [0.0, 0....</td>\n",
       "      <td>NaN</td>\n",
       "    </tr>\n",
       "    <tr>\n",
       "      <th>815</th>\n",
       "      <td>815</td>\n",
       "      <td>mua</td>\n",
       "      <td>[[0.0, 0.0, 0.0, 0.0, 0.0, 0.0, 0.0, 0.0, 0.0,...</td>\n",
       "      <td>[373, 355, 364, 372, 359, 352, 370, 369, 365, ...</td>\n",
       "      <td>373</td>\n",
       "      <td>[352, 355, 359, 364, 370, 372, 373]</td>\n",
       "      <td>[[0.0, 0.0, 0.0, 0.0, 0.0, 0.0, 0.0], [0.0, 0....</td>\n",
       "      <td>NaN</td>\n",
       "    </tr>\n",
       "  </tbody>\n",
       "</table>\n",
       "</div>"
      ],
      "text/plain": [
       "     cluster_id KSLabel                                           template  \\\n",
       "808         808     mua  [[0.0, 0.0, 0.0, 0.0, 0.0, 0.0, 0.0, 0.0, 0.0,...   \n",
       "813         813     mua  [[0.0, 0.0, 0.0, 0.0, 0.0, 0.0, 0.0, 0.0, 0.0,...   \n",
       "814         814     mua  [[0.0, 0.0, 0.0, 0.0, 0.0, 0.0, 0.0, 0.0, 0.0,...   \n",
       "807         807     mua  [[0.0, 0.0, 0.0, 0.0, 0.0, 0.0, 0.0, 0.0, 0.0,...   \n",
       "815         815     mua  [[0.0, 0.0, 0.0, 0.0, 0.0, 0.0, 0.0, 0.0, 0.0,...   \n",
       "\n",
       "                                             max_chans  main_chan  \\\n",
       "808  [365, 358, 357, 362, 353, 364, 366, 368, 367, ...        365   \n",
       "813  [370, 373, 372, 344, 374, 362, 369, 371, 357, ...        370   \n",
       "814  [370, 363, 368, 356, 373, 361, 357, 369, 367, ...        370   \n",
       "807  [373, 365, 370, 358, 372, 349, 347, 363, 357, ...        373   \n",
       "815  [373, 355, 364, 372, 359, 352, 370, 369, 365, ...        373   \n",
       "\n",
       "                                  main_7  \\\n",
       "808  [353, 357, 358, 362, 364, 365, 366]   \n",
       "813  [344, 362, 369, 370, 372, 373, 374]   \n",
       "814  [356, 357, 361, 363, 368, 370, 373]   \n",
       "807  [347, 349, 358, 365, 370, 372, 373]   \n",
       "815  [352, 355, 359, 364, 370, 372, 373]   \n",
       "\n",
       "                                            main_wav_7 nucleus  \n",
       "808  [[0.0, 0.0, 0.0, 0.0, 0.0, 0.0, 0.0], [0.0, 0....     NaN  \n",
       "813  [[0.0, 0.0, 0.0, 0.0, 0.0, 0.0, 0.0], [0.0, 0....     NaN  \n",
       "814  [[0.0, 0.0, 0.0, 0.0, 0.0, 0.0, 0.0], [0.0, 0....     NaN  \n",
       "807  [[0.0, 0.0, 0.0, 0.0, 0.0, 0.0, 0.0], [0.0, 0....     NaN  \n",
       "815  [[0.0, 0.0, 0.0, 0.0, 0.0, 0.0, 0.0], [0.0, 0....     NaN  "
      ]
     },
     "execution_count": 30,
     "metadata": {},
     "output_type": "execute_result"
    }
   ],
   "source": [
    "cluster_df.tail()"
   ]
  },
  {
   "cell_type": "code",
   "execution_count": 33,
   "id": "87db439d",
   "metadata": {},
   "outputs": [
    {
     "data": {
      "text/html": [
       "<div>\n",
       "<style scoped>\n",
       "    .dataframe tbody tr th:only-of-type {\n",
       "        vertical-align: middle;\n",
       "    }\n",
       "\n",
       "    .dataframe tbody tr th {\n",
       "        vertical-align: top;\n",
       "    }\n",
       "\n",
       "    .dataframe thead th {\n",
       "        text-align: right;\n",
       "    }\n",
       "</style>\n",
       "<table border=\"1\" class=\"dataframe\">\n",
       "  <thead>\n",
       "    <tr style=\"text-align: right;\">\n",
       "      <th></th>\n",
       "      <th>cluster_id</th>\n",
       "      <th>KSLabel</th>\n",
       "      <th>template</th>\n",
       "      <th>max_chans</th>\n",
       "      <th>main_chan</th>\n",
       "      <th>main_7</th>\n",
       "      <th>main_wav_7</th>\n",
       "      <th>nucleus</th>\n",
       "    </tr>\n",
       "  </thead>\n",
       "  <tbody>\n",
       "    <tr>\n",
       "      <th>143</th>\n",
       "      <td>143</td>\n",
       "      <td>good</td>\n",
       "      <td>[[0.0, 0.0, 0.0, 0.0, 0.0, 0.0, 0.0, 0.0, 0.0,...</td>\n",
       "      <td>[43, 40, 42, 45, 39, 44, 38, 41, 49, 46, 47, 3...</td>\n",
       "      <td>43</td>\n",
       "      <td>[38, 39, 40, 42, 43, 44, 45]</td>\n",
       "      <td>[[0.0, 0.0, 0.0, 0.0, 0.0, 0.0, 0.0], [0.0, 0....</td>\n",
       "      <td>NaN</td>\n",
       "    </tr>\n",
       "  </tbody>\n",
       "</table>\n",
       "</div>"
      ],
      "text/plain": [
       "     cluster_id KSLabel                                           template  \\\n",
       "143         143    good  [[0.0, 0.0, 0.0, 0.0, 0.0, 0.0, 0.0, 0.0, 0.0,...   \n",
       "\n",
       "                                             max_chans  main_chan  \\\n",
       "143  [43, 40, 42, 45, 39, 44, 38, 41, 49, 46, 47, 3...         43   \n",
       "\n",
       "                           main_7  \\\n",
       "143  [38, 39, 40, 42, 43, 44, 45]   \n",
       "\n",
       "                                            main_wav_7 nucleus  \n",
       "143  [[0.0, 0.0, 0.0, 0.0, 0.0, 0.0, 0.0], [0.0, 0....     NaN  "
      ]
     },
     "execution_count": 33,
     "metadata": {},
     "output_type": "execute_result"
    }
   ],
   "source": [
    "cluster_df[cluster_df.cluster_id==143]"
   ]
  },
  {
   "cell_type": "markdown",
   "id": "057e8d36",
   "metadata": {},
   "source": [
    "1. nucleus: only look for 'ra'? don't use nan\n",
    "2. KSLabel: 'mua'? multi unit activity, 1) together 2) good 3) mua\n",
    "3. channel: any use in this run? na"
   ]
  },
  {
   "cell_type": "code",
   "execution_count": 14,
   "id": "5992d5b2",
   "metadata": {
    "scrolled": true
   },
   "outputs": [
    {
     "data": {
      "text/plain": [
       "(82, 375)"
      ]
     },
     "execution_count": 14,
     "metadata": {},
     "output_type": "execute_result"
    }
   ],
   "source": [
    "cluster_df.iloc[0].template.shape"
   ]
  },
  {
   "cell_type": "markdown",
   "id": "66113943",
   "metadata": {},
   "source": [
    "# spike_df"
   ]
  },
  {
   "cell_type": "code",
   "execution_count": 6,
   "id": "ac8da603",
   "metadata": {},
   "outputs": [],
   "source": [
    "spike_df = pickle.load(open(os.path.join(source_folder, spike_data_name), 'rb'))"
   ]
  },
  {
   "cell_type": "code",
   "execution_count": 11,
   "id": "c454db47",
   "metadata": {},
   "outputs": [
    {
     "data": {
      "text/html": [
       "<div>\n",
       "<style scoped>\n",
       "    .dataframe tbody tr th:only-of-type {\n",
       "        vertical-align: middle;\n",
       "    }\n",
       "\n",
       "    .dataframe tbody tr th {\n",
       "        vertical-align: top;\n",
       "    }\n",
       "\n",
       "    .dataframe thead th {\n",
       "        text-align: right;\n",
       "    }\n",
       "</style>\n",
       "<table border=\"1\" class=\"dataframe\">\n",
       "  <thead>\n",
       "    <tr style=\"text-align: right;\">\n",
       "      <th></th>\n",
       "      <th>times</th>\n",
       "      <th>clusters</th>\n",
       "      <th>nucelus</th>\n",
       "      <th>main_chan</th>\n",
       "      <th>kslabel</th>\n",
       "    </tr>\n",
       "  </thead>\n",
       "  <tbody>\n",
       "    <tr>\n",
       "      <th>0</th>\n",
       "      <td>90</td>\n",
       "      <td>132</td>\n",
       "      <td>NaN</td>\n",
       "      <td>41</td>\n",
       "      <td>good</td>\n",
       "    </tr>\n",
       "    <tr>\n",
       "      <th>1</th>\n",
       "      <td>192</td>\n",
       "      <td>143</td>\n",
       "      <td>NaN</td>\n",
       "      <td>43</td>\n",
       "      <td>good</td>\n",
       "    </tr>\n",
       "    <tr>\n",
       "      <th>2</th>\n",
       "      <td>195</td>\n",
       "      <td>132</td>\n",
       "      <td>NaN</td>\n",
       "      <td>41</td>\n",
       "      <td>good</td>\n",
       "    </tr>\n",
       "    <tr>\n",
       "      <th>3</th>\n",
       "      <td>202</td>\n",
       "      <td>390</td>\n",
       "      <td>NaN</td>\n",
       "      <td>114</td>\n",
       "      <td>good</td>\n",
       "    </tr>\n",
       "    <tr>\n",
       "      <th>4</th>\n",
       "      <td>208</td>\n",
       "      <td>405</td>\n",
       "      <td>NaN</td>\n",
       "      <td>122</td>\n",
       "      <td>good</td>\n",
       "    </tr>\n",
       "  </tbody>\n",
       "</table>\n",
       "</div>"
      ],
      "text/plain": [
       "   times  clusters nucelus  main_chan kslabel\n",
       "0     90       132     NaN         41    good\n",
       "1    192       143     NaN         43    good\n",
       "2    195       132     NaN         41    good\n",
       "3    202       390     NaN        114    good\n",
       "4    208       405     NaN        122    good"
      ]
     },
     "execution_count": 11,
     "metadata": {},
     "output_type": "execute_result"
    }
   ],
   "source": [
    "spike_df.head()"
   ]
  },
  {
   "cell_type": "code",
   "execution_count": 29,
   "id": "84d339c3",
   "metadata": {},
   "outputs": [
    {
     "data": {
      "text/plain": [
       "array([       90,       192,       195, ..., 229265553, 229265553,\n",
       "       229265558], dtype=uint64)"
      ]
     },
     "execution_count": 29,
     "metadata": {},
     "output_type": "execute_result"
    }
   ],
   "source": [
    "spike_df.times.values"
   ]
  },
  {
   "cell_type": "markdown",
   "id": "3067a408",
   "metadata": {},
   "source": [
    "1. times in samples\n",
    "2. clusters = cluster_id in cluster_df?\n",
    "3. "
   ]
  },
  {
   "cell_type": "code",
   "execution_count": null,
   "id": "36397965",
   "metadata": {},
   "outputs": [],
   "source": []
  }
 ],
 "metadata": {
  "kernelspec": {
   "display_name": "Python 3",
   "language": "python",
   "name": "python3"
  },
  "language_info": {
   "codemirror_mode": {
    "name": "ipython",
    "version": 3
   },
   "file_extension": ".py",
   "mimetype": "text/x-python",
   "name": "python",
   "nbconvert_exporter": "python",
   "pygments_lexer": "ipython3",
   "version": "3.7.10"
  }
 },
 "nbformat": 4,
 "nbformat_minor": 5
}
